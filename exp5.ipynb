{
 "cells": [
  {
   "cell_type": "code",
   "execution_count": 15,
   "metadata": {},
   "outputs": [],
   "source": [
    "import matplotlib.pyplot as plt\n",
    "import numpy as np\n",
    "import math\n",
    "def f(x):\n",
    "    return ymean+byx*(x-xmean)"
   ]
  },
  {
   "cell_type": "code",
   "execution_count": 16,
   "metadata": {},
   "outputs": [],
   "source": [
    "x=[25,28,35,32,31,36,29,38,34,32]\n",
    "y=[43,46,49,41,36,32,31,30,33,39]"
   ]
  },
  {
   "cell_type": "code",
   "execution_count": 17,
   "metadata": {},
   "outputs": [
    {
     "name": "stdout",
     "output_type": "stream",
     "text": [
      "The correlation Coefficient is -0.394\n"
     ]
    }
   ],
   "source": [
    "sx=0\n",
    "sy=0\n",
    "sxy=0\n",
    "sx2=0\n",
    "sy2=0\n",
    "for i in range(0,10):\n",
    "    sx=sx+x[i]\n",
    "    sy=sy+y[i]\n",
    "    sxy=sxy+x[i]*y[i]\n",
    "    sx2=sx2+x[i]**2\n",
    "    sy2=sy2+y[i]**2\n",
    "n=10\n",
    "r=(n*sxy-sx*sy)/(math.sqrt(n*sx2-sx**2)*math.sqrt(n*sy2-sy**2))\n",
    "print(\"The correlation Coefficient is %0.3f\"%r)"
   ]
  },
  {
   "cell_type": "code",
   "execution_count": 18,
   "metadata": {},
   "outputs": [
    {
     "name": "stdout",
     "output_type": "stream",
     "text": [
      "The Regression line Y on X is ::: y=38.000 -0.664 (x - 32.000)\n"
     ]
    }
   ],
   "source": [
    "byx=(n*sxy-sx*sy)/(n*sx2-sx**2)\n",
    "xmean=sx/n\n",
    "ymean=sy/n\n",
    "print(\"The Regression line Y on X is ::: y=%0.3f %0.3f (x - %0.3f)\"%(ymean,byx,xmean))"
   ]
  },
  {
   "cell_type": "code",
   "execution_count": 20,
   "metadata": {},
   "outputs": [
    {
     "data": {
      "text/plain": [
       "[<matplotlib.lines.Line2D at 0x1f772d9d550>]"
      ]
     },
     "execution_count": 20,
     "metadata": {},
     "output_type": "execute_result"
    },
    {
     "data": {
      "image/png": "[encoded data removed]",
      "text/plain": [
       "<Figure size 432x288 with 1 Axes>"
      ]
     },
     "metadata": {
      "needs_background": "light"
     },
     "output_type": "display_data"
    }
   ],
   "source": [
    "plt.scatter(x,y)\n",
    "def Reg(x):\n",
    "    return ymean+byx*(x-xmean)\n",
    "x1=np.linspace(20,40,51)\n",
    "y1=Reg(x1)\n",
    "plt.plot(x1,y1,'r')"
   ]
  },
  {
   "cell_type": "code",
   "execution_count": null,
   "metadata": {},
   "outputs": [],
   "source": []
  }
 ],
 "metadata": {
  "interpreter": {
   "hash": "5c3c20d661c225f56c31cb7e3c3e4e216d31a5890816f8c2234433aeff4b2f1b"
  },
  "kernelspec": {
   "display_name": "Python 3.9.12 64-bit (windows store)",
   "language": "python",
   "name": "python3"
  },
  "language_info": {
   "codemirror_mode": {
    "name": "ipython",
    "version": 3
   },
   "file_extension": ".py",
   "mimetype": "text/x-python",
   "name": "python",
   "nbconvert_exporter": "python",
   "pygments_lexer": "ipython3",
   "version": "3.9.12"
  },
  "orig_nbformat": 4
 },
 "nbformat": 4,
 "nbformat_minor": 2
}
